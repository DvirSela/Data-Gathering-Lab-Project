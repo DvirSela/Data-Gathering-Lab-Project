{
 "cells": [
  {
   "cell_type": "code",
   "execution_count": 0,
   "metadata": {
    "application/vnd.databricks.v1+cell": {
     "cellMetadata": {
      "byteLimit": 2048000,
      "rowLimit": 10000
     },
     "inputWidgets": {},
     "nuid": "10a7649e-37d8-4ac8-adac-4b85e116d00b",
     "showTitle": false,
     "tableResultSettingsMap": {},
     "title": ""
    }
   },
   "outputs": [],
   "source": [
    "from pyspark.sql import SparkSession\n",
    "from pyspark.sql import functions as F\n",
    "from pyspark.sql.functions import col, size, avg, explode, regexp_replace, when, collect_list, expr, udf\n",
    "# from pyspark.sql.functions import *\n",
    "from pyspark.sql.types import ArrayType, FloatType\n",
    "from sentence_transformers import SentenceTransformer\n",
    "from pyspark.ml.clustering import KMeans\n",
    "from pyspark.ml.feature import VectorAssembler\n",
    "import numpy as np\n",
    "from scipy.spatial.distance import cosine\n",
    "import re\n",
    "import pandas as pd\n",
    "import matplotlib.pyplot as plt\n",
    "import seaborn as sns\n",
    "import scipy.stats as stats\n",
    "from scipy.stats import beta\n",
    "from sentence_transformers import SentenceTransformer\n",
    "from sklearn.manifold import TSNE\n",
    "from matplotlib import cm\n",
    "from pyspark.ml.feature import PCA\n",
    "from pyspark.ml import Pipeline\n",
    "from pyspark.ml.functions import array_to_vector\n",
    "from pyspark.ml.linalg import Vectors\n",
    "from pyspark.sql.window import Window"
   ]
  },
  {
   "cell_type": "code",
   "execution_count": 0,
   "metadata": {
    "application/vnd.databricks.v1+cell": {
     "cellMetadata": {
      "byteLimit": 2048000,
      "rowLimit": 10000
     },
     "inputWidgets": {},
     "nuid": "08e6a2d5-a283-49e4-b00b-ee4443848580",
     "showTitle": false,
     "tableResultSettingsMap": {},
     "title": ""
    }
   },
   "outputs": [],
   "source": [
    "N = 20000\n",
    "seed = 42\n",
    "k = 10\n",
    "# Change this to test a different model\n",
    "index_model = 0\n",
    "\n",
    "# Due to technical issues, the actual dataset for DistilBERT was indexed as number 3\n",
    "models_list = ['BERT',\n",
    "                'RoBERTa',\n",
    "                'DistilBERT',\n",
    "                'DistilBERT']\n",
    "\n",
    "model_name = models_list[index_model]\n",
    "\n",
    "spark.conf.set(\"spark.sql.execution.rangeExchange.sampleRate\", str(seed))"
   ]
  },
  {
   "cell_type": "code",
   "execution_count": 0,
   "metadata": {
    "application/vnd.databricks.v1+cell": {
     "cellMetadata": {
      "byteLimit": 2048000,
      "rowLimit": 10000
     },
     "inputWidgets": {},
     "nuid": "25b81e3b-f9df-4c42-a219-aa38627da6fa",
     "showTitle": false,
     "tableResultSettingsMap": {},
     "title": ""
    }
   },
   "outputs": [],
   "source": [
    "people_name =  f'people_new_misc_model_index_{index_model}_N_{N}'\n",
    "matchings_name = f'job_listings_most_compatible_people_K_{k}_N_{N}_model_{index_model}'"
   ]
  },
  {
   "cell_type": "code",
   "execution_count": 0,
   "metadata": {
    "application/vnd.databricks.v1+cell": {
     "cellMetadata": {
      "byteLimit": 2048000,
      "rowLimit": 10000
     },
     "inputWidgets": {},
     "nuid": "9592bb48-7fff-4fba-b379-f0b740f9ee35",
     "showTitle": false,
     "tableResultSettingsMap": {},
     "title": ""
    }
   },
   "outputs": [],
   "source": [
    "meta_industries = ['Healthcare and Medical', 'Media and Entertainment', 'Technology', 'Government and Public Policy', 'Real Estate and Construction', 'Financial and Investment', 'Transportation and Logistics', 'Services', 'Education and Training', 'Manufacturing', 'Retail and Consumer Goods', 'Miscellaneous']\n",
    "\n",
    "people_transformed = spark.read.format(\"parquet\").load(f\"dbfs:/FileStore/tables/dvirPeleg/{people_name}\")\n",
    "matchings = spark.read.parquet(f\"dbfs:/FileStore/tables/dvirPeleg/{matchings_name}\")"
   ]
  },
  {
   "cell_type": "code",
   "execution_count": 0,
   "metadata": {
    "application/vnd.databricks.v1+cell": {
     "cellMetadata": {
      "byteLimit": 2048000,
      "rowLimit": 10000
     },
     "inputWidgets": {},
     "nuid": "2d8bf813-ec20-4a1b-9db7-5ff86d3d98ef",
     "showTitle": false,
     "tableResultSettingsMap": {},
     "title": ""
    }
   },
   "outputs": [],
   "source": [
    "people_transformed = people_transformed.select('id', 'meta_industry', 'title_vector')\n",
    "matchings = matchings.select('job_id', 'meta_industry', 'only_title_emb', 'most_compatible')"
   ]
  },
  {
   "cell_type": "code",
   "execution_count": 0,
   "metadata": {
    "application/vnd.databricks.v1+cell": {
     "cellMetadata": {
      "byteLimit": 2048000,
      "rowLimit": 10000
     },
     "inputWidgets": {},
     "nuid": "4bbca212-98b0-4ccd-bdce-ba7786d305aa",
     "showTitle": false,
     "tableResultSettingsMap": {},
     "title": ""
    }
   },
   "outputs": [],
   "source": [
    "meta_industry_workers = {\n",
    "    industry: people_transformed.filter(people_transformed[\"meta_industry\"] == industry).cache()\n",
    "    for industry in meta_industries\n",
    "}"
   ]
  },
  {
   "cell_type": "code",
   "execution_count": 0,
   "metadata": {
    "application/vnd.databricks.v1+cell": {
     "cellMetadata": {
      "byteLimit": 2048000,
      "rowLimit": 10000
     },
     "inputWidgets": {},
     "nuid": "593c0ca1-c551-49f1-a462-97a8fdfdcf21",
     "showTitle": false,
     "tableResultSettingsMap": {},
     "title": ""
    }
   },
   "outputs": [],
   "source": [
    "# meta_industry_counts = {\n",
    "#     industry: df.count() for industry, df in meta_industry_workers.items()\n",
    "# }\n",
    "\n",
    "# for industry, count in meta_industry_counts.items():\n",
    "#     print(f\"{industry}: {count} rows\")"
   ]
  },
  {
   "cell_type": "code",
   "execution_count": 0,
   "metadata": {
    "application/vnd.databricks.v1+cell": {
     "cellMetadata": {
      "byteLimit": 2048000,
      "rowLimit": 10000
     },
     "inputWidgets": {},
     "nuid": "f7a601b6-e08a-4479-b0cc-dd26bf2721ce",
     "showTitle": false,
     "tableResultSettingsMap": {},
     "title": ""
    }
   },
   "outputs": [],
   "source": [
    "meta_industry_samples = {\n",
    "    industry: df.orderBy(F.rand(seed=seed)).limit(k).cache()\n",
    "    for industry, df in meta_industry_workers.items()\n",
    "}"
   ]
  },
  {
   "cell_type": "code",
   "execution_count": 0,
   "metadata": {
    "application/vnd.databricks.v1+cell": {
     "cellMetadata": {
      "byteLimit": 2048000,
      "rowLimit": 10000
     },
     "inputWidgets": {},
     "nuid": "924bdf2f-f9e1-4fe1-a8f0-ba045532535a",
     "showTitle": false,
     "tableResultSettingsMap": {},
     "title": ""
    }
   },
   "outputs": [],
   "source": [
    "def cosine_similarity(v1, v2):\n",
    "    \"\"\"\n",
    "    Computes the cosine similarity between two vectors.\n",
    "    @param v1: The first vector\n",
    "    @param v2: The second vector\n",
    "    @return: The cosine similarity between the two vectors\n",
    "    \"\"\"\n",
    "    v1 = np.array(v1)\n",
    "    v2 = np.array(v2)\n",
    "    dot_product = np.dot(v1, v2)\n",
    "    norm_v1 = np.linalg.norm(v1)\n",
    "    norm_v2 = np.linalg.norm(v2)\n",
    "    return float(dot_product / (norm_v1 * norm_v2)) if norm_v1 != 0 and norm_v2 != 0 else 0.0\n",
    "\n",
    "cosine_similarity_udf = udf(cosine_similarity, FloatType())"
   ]
  },
  {
   "cell_type": "code",
   "execution_count": 0,
   "metadata": {
    "application/vnd.databricks.v1+cell": {
     "cellMetadata": {
      "byteLimit": 2048000,
      "rowLimit": 10000
     },
     "inputWidgets": {},
     "nuid": "ba5ea548-7ec5-4f71-af19-b11e05352a2a",
     "showTitle": false,
     "tableResultSettingsMap": {},
     "title": ""
    }
   },
   "outputs": [],
   "source": [
    "# Combine all dataframes in meta_industry_samples into one dataframe\n",
    "combined_samples_df = None\n",
    "for meta_industry, samples_df in meta_industry_samples.items():\n",
    "    samples_df = samples_df.withColumn(\"meta_industry\", F.lit(meta_industry))\n",
    "    if combined_samples_df is None:\n",
    "        combined_samples_df = samples_df\n",
    "    else:\n",
    "        combined_samples_df = combined_samples_df.union(samples_df)\n",
    "\n",
    "combined_samples_df = combined_samples_df.cache()"
   ]
  },
  {
   "cell_type": "code",
   "execution_count": 0,
   "metadata": {
    "application/vnd.databricks.v1+cell": {
     "cellMetadata": {
      "byteLimit": 2048000,
      "rowLimit": 10000
     },
     "inputWidgets": {},
     "nuid": "4d14460e-7fc9-4524-b484-98a4b576aff7",
     "showTitle": false,
     "tableResultSettingsMap": {},
     "title": ""
    }
   },
   "outputs": [],
   "source": [
    "# Join matchings with combined_samples_df on meta_industry\n",
    "joined_df = matchings.join(\n",
    "    combined_samples_df,\n",
    "    on=\"meta_industry\",\n",
    "    how=\"inner\"\n",
    ")\n",
    "\n",
    "# Calculate cosine similarity for each pair\n",
    "similarity_df = joined_df.withColumn(\n",
    "    \"similarity\",\n",
    "    cosine_similarity_udf(F.col(\"only_title_emb\"), F.col(\"title_vector\"))\n",
    ")\n",
    "\n",
    "# Group by job_id and calculate the average similarity\n",
    "average_similarity_df = similarity_df.groupBy(\"job_id\").agg(\n",
    "    avg(\"similarity\").alias(\"average_similarity_baseline\")\n",
    ")\n",
    "\n",
    "# Join the average similarity back to the original matchings dataframe\n",
    "matchings = matchings.join(\n",
    "    average_similarity_df,\n",
    "    on=\"job_id\",\n",
    "    how=\"left\"\n",
    ")"
   ]
  },
  {
   "cell_type": "code",
   "execution_count": 0,
   "metadata": {
    "application/vnd.databricks.v1+cell": {
     "cellMetadata": {
      "byteLimit": 2048000,
      "rowLimit": 10000
     },
     "inputWidgets": {},
     "nuid": "5d78af60-faf5-454d-9248-871aebb97931",
     "showTitle": false,
     "tableResultSettingsMap": {},
     "title": ""
    }
   },
   "outputs": [],
   "source": [
    "# Explode the most_compatible list so that each ID gets its own row\n",
    "matchings_exploded = matchings.withColumn(\"id\", F.explode(\"most_compatible\"))\n",
    "\n",
    "# Join with people_transformed on the id column\n",
    "joined_df = matchings_exploded.join(people_transformed, on=\"id\", how=\"left\")\n",
    "\n",
    "# Compute cosine similarity between only_title_emb and title_vec\n",
    "joined_df = joined_df.withColumn(\"similarity\", cosine_similarity_udf(\"only_title_emb\", \"title_vector\"))\n",
    "\n",
    "# Aggregate to compute the average similarity per job_id\n",
    "average_similarity_df = joined_df.groupBy(\"job_id\").agg(F.avg(\"similarity\").alias(\"average_similarity_most_compatible\"))\n",
    "\n",
    "# Join the average similarity back to the original matchings dataframe\n",
    "matchings = matchings.join(average_similarity_df, on=\"job_id\", how=\"left\")"
   ]
  },
  {
   "cell_type": "code",
   "execution_count": 0,
   "metadata": {
    "application/vnd.databricks.v1+cell": {
     "cellMetadata": {
      "byteLimit": 2048000,
      "rowLimit": 10000
     },
     "inputWidgets": {},
     "nuid": "32c46bef-526f-49ee-9fdc-15c17495c7c5",
     "showTitle": false,
     "tableResultSettingsMap": {},
     "title": ""
    }
   },
   "outputs": [
    {
     "output_type": "display_data",
     "data": {
      "image/png": "[encoded data removed]",
      "text/plain": [
       "<Figure size 600x600 with 1 Axes>"
      ]
     },
     "metadata": {},
     "output_type": "display_data"
    }
   ],
   "source": [
    "# Convert Spark DataFrame to Pandas DataFrame\n",
    "pdf = matchings.toPandas()\n",
    "\n",
    "# Generate values for plotting the beta distribution\n",
    "x = np.linspace(0, 1, 100)\n",
    "\n",
    "# Plot histograms\n",
    "plt.figure(figsize=(6, 6))\n",
    "sns.histplot(pdf['average_similarity_baseline'], bins=30, kde=False, color='blue', label='Baseline', alpha=0.5, stat='density')\n",
    "sns.histplot(pdf['average_similarity_most_compatible'], bins=30, kde=False, color='red', label='Most Compatible', alpha=0.5, stat='density')\n",
    "\n",
    "# Labels and title\n",
    "plt.xlabel('Average Similarity')\n",
    "plt.ylabel('Density')\n",
    "plt.title(f'Comparison of Similarity Distributions - {model_name}')\n",
    "plt.legend()\n",
    "\n",
    "# Show plot\n",
    "plt.show()"
   ]
  },
  {
   "cell_type": "code",
   "execution_count": 0,
   "metadata": {
    "application/vnd.databricks.v1+cell": {
     "cellMetadata": {
      "byteLimit": 2048000,
      "rowLimit": 10000
     },
     "inputWidgets": {},
     "nuid": "3a5a8ab0-9cdb-437f-bff8-f5332a2d86b2",
     "showTitle": false,
     "tableResultSettingsMap": {},
     "title": ""
    }
   },
   "outputs": [
    {
     "output_type": "stream",
     "name": "stdout",
     "output_type": "stream",
     "text": [
      "BERT\nFinancial and Investment     - 4.58e-01 \nEducation and Training       - 1.00e+00 \nHealthcare and Medical       - 1.00e+00 \nTransportation and Logistics - 3.91e-01 \nReal Estate and Construction - 9.64e-01 \nGovernment and Public Policy - 9.77e-01 \nManufacturing                - 5.65e-02 \nMedia and Entertainment      - 9.28e-12 ***\nMiscellaneous                - 7.65e-03 **\nRetail and Consumer Goods    - 1.00e+00 \nTechnology                   - 1.00e+00 \nServices                     - 7.49e-01 \n"
     ]
    }
   ],
   "source": [
    "# Hypothesis Testing\n",
    "# For each meta industry\n",
    "# - Null Hypothesis: The average similarity of the most compatible is equal to the average similarity of the baseline\n",
    "# - Alternative Hypothesis: The average similarity of the most compatible is greater than the average similarity of the baseline\n",
    "\n",
    "meta_industries = pdf[\"meta_industry\"].unique()  # Get unique meta_industries\n",
    "\n",
    "p_values = {}\n",
    "for industry in meta_industries:\n",
    "    subset = pdf[pdf[\"meta_industry\"] == industry]\n",
    "    \n",
    "    t_stat, p_value = stats.ttest_ind(\n",
    "        subset[\"average_similarity_most_compatible\"], \n",
    "        subset[\"average_similarity_baseline\"],\n",
    "        alternative='greater'  # One-sided test for greater mean\n",
    "    )\n",
    "    \n",
    "    # Assign significance levels\n",
    "    if p_value < 0.001:\n",
    "        significance = \"***\"\n",
    "    elif p_value < 0.01:\n",
    "        significance = \"**\"\n",
    "    elif p_value < 0.05:\n",
    "        significance = \"*\"\n",
    "    else:\n",
    "        significance = \"\"\n",
    "    \n",
    "    p_values[industry] = f\"{p_value:.2e} {significance}\"\n",
    "\n",
    "print(model_name)\n",
    "\n",
    "max_length = max(len(industry) for industry in p_values.keys())\n",
    "\n",
    "# Print results in aligned format\n",
    "for industry, formatted_p_value in p_values.items():\n",
    "    print(f\"{industry.ljust(max_length)} - {formatted_p_value}\")"
   ]
  }
 ],
 "metadata": {
  "application/vnd.databricks.v1+notebook": {
   "computePreferences": null,
   "dashboards": [],
   "environmentMetadata": {
    "base_environment": "",
    "environment_version": "2"
   },
   "language": "python",
   "notebookMetadata": {
    "pythonIndentUnit": 4
   },
   "notebookName": "Test Performance 4",
   "widgets": {}
  },
  "language_info": {
   "name": "python"
  }
 },
 "nbformat": 4,
 "nbformat_minor": 0
}